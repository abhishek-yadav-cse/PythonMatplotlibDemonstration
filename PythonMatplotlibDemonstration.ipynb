{
 "cells": [
  {
   "cell_type": "markdown",
   "metadata": {},
   "source": [
    "<b>Plot graph using Python</b>\n",
    "\n",
    "Using matplotlib to plot graph and calculation of following is performed :-\n",
    "\n",
    "1. Degree of each nodes.\n",
    "2. Degree centrality\n",
    "3. Betweenness centrality\n",
    "4. Pagerank"
   ]
  },
  {
   "cell_type": "code",
   "execution_count": 8,
   "metadata": {
    "collapsed": true
   },
   "outputs": [],
   "source": [
    "#Importing necessary modules \n",
    "import networkx as nx\n",
    "import matplotlib.pyplot as plt\n",
    "\n",
    "#G = nx.Graph()\n",
    "G = nx.DiGraph()"
   ]
  },
  {
   "cell_type": "code",
   "execution_count": 9,
   "metadata": {
    "collapsed": true
   },
   "outputs": [],
   "source": [
    "#G.add_node(1)\n",
    "G.add_nodes_from([2,6])"
   ]
  },
  {
   "cell_type": "code",
   "execution_count": 10,
   "metadata": {
    "collapsed": true
   },
   "outputs": [],
   "source": [
    "G.add_edges_from([(0,1),(0,2),(1,0), (1,3), (2,3),(2,5),(3,4),(4,2),(4,3),(5,4)])"
   ]
  },
  {
   "cell_type": "code",
   "execution_count": 11,
   "metadata": {},
   "outputs": [
    {
     "name": "stdout",
     "output_type": "stream",
     "text": [
      "Node Degree\n",
      "0 3\n",
      "1 3\n",
      "2 4\n",
      "3 4\n",
      "4 4\n",
      "5 2\n",
      "6 0\n"
     ]
    },
    {
     "data": {
      "image/png": "[encoded data removed]",
      "text/plain": [
       "<matplotlib.figure.Figure at 0x151f3df8d0>"
      ]
     },
     "metadata": {},
     "output_type": "display_data"
    }
   ],
   "source": [
    "print(\"Node Degree\")\n",
    "for v in G:\n",
    "    print('%s %s' % (v, G.degree(v)))\n",
    "\n",
    "nx.draw_circular(G, with_labels=True)\n",
    "#nx.draw_random(G, with_labels=True)\n",
    "#nx.draw_spectral(G, with_labels=True)\n",
    "plt.show()"
   ]
  },
  {
   "cell_type": "code",
   "execution_count": 12,
   "metadata": {},
   "outputs": [
    {
     "name": "stdout",
     "output_type": "stream",
     "text": [
      "Degree Centrality\n",
      "{0: 0.5, 1: 0.5, 2: 0.6666666666666666, 3: 0.6666666666666666, 4: 0.6666666666666666, 5: 0.3333333333333333, 6: 0.0}\n"
     ]
    }
   ],
   "source": [
    "#Calculate degree centrality\n",
    "dc = nx.degree_centrality(G)\n",
    "\n",
    "print(\"Degree Centrality\")\n",
    "print('%s' % dc)"
   ]
  },
  {
   "cell_type": "code",
   "execution_count": 13,
   "metadata": {},
   "outputs": [
    {
     "name": "stdout",
     "output_type": "stream",
     "text": [
      "Betweeness Centrality\n",
      "{0: 0.06666666666666667, 1: 0.027777777777777776, 2: 0.1722222222222222, 3: 0.07222222222222222, 4: 0.13333333333333333, 5: 0.027777777777777776, 6: 0.0}\n"
     ]
    }
   ],
   "source": [
    "#Calculate betweenness centrality\n",
    "bc = nx.betweenness_centrality(G)\n",
    "\n",
    "print(\"Betweeness Centrality\")\n",
    "print('%s' % bc)"
   ]
  },
  {
   "cell_type": "code",
   "execution_count": 14,
   "metadata": {},
   "outputs": [
    {
     "name": "stdout",
     "output_type": "stream",
     "text": [
      "Node PageRank\n",
      "{0: 0.0424178209467416, 1: 0.0424178209467416, 2: 0.18570069894987568, 3: 0.26462319838959564, 4: 0.3371374735224474, 5: 0.10331274334215897, 6: 0.02439024390243903}\n"
     ]
    }
   ],
   "source": [
    "#Calculate pagerank\n",
    "pr = nx.pagerank(G, alpha=0.85)\n",
    "    \n",
    "print(\"Node PageRank\")\n",
    "print('%s' % pr)"
   ]
  }
 ],
 "metadata": {
  "kernelspec": {
   "display_name": "Python 2",
   "language": "python",
   "name": "python2"
  },
  "language_info": {
   "codemirror_mode": {
    "name": "ipython",
    "version": 2
   },
   "file_extension": ".py",
   "mimetype": "text/x-python",
   "name": "python",
   "nbconvert_exporter": "python",
   "pygments_lexer": "ipython2",
   "version": "2.7.14"
  }
 },
 "nbformat": 4,
 "nbformat_minor": 2
}
